{
  "nbformat": 4,
  "nbformat_minor": 0,
  "metadata": {
    "kernelspec": {
      "name": "python3",
      "display_name": "Python 3.7",
      "language": "python"
    },
    "language_info": {
      "name": "python",
      "version": "3.7.10",
      "mimetype": "text/x-python",
      "codemirror_mode": {
        "name": "ipython",
        "version": 3
      },
      "pygments_lexer": "ipython3",
      "nbconvert_exporter": "python",
      "file_extension": ".py"
    },
    "colab": {
      "name": "VRP_dwave_qiskit.ipynb",
      "provenance": [],
      "toc_visible": true,
      "include_colab_link": true
    }
  },
  "cells": [
    {
      "cell_type": "markdown",
      "metadata": {
        "id": "view-in-github",
        "colab_type": "text"
      },
      "source": [
        "<a href=\"https://colab.research.google.com/github/Aniket-235/VRP_dwave_qiskit/blob/main/VRP_dwave_qiskit.ipynb\" target=\"_parent\"><img src=\"https://colab.research.google.com/assets/colab-badge.svg\" alt=\"Open In Colab\"/></a>"
      ]
    },
    {
      "cell_type": "code",
      "metadata": {
        "id": "EeOPn3sCtW9g"
      },
      "source": [
        "!pip install qiskit\n",
        "!pip install dwave-ocean-sdk\n",
        "!pip install dwave-qiskit-plugin"
      ],
      "execution_count": null,
      "outputs": []
    },
    {
      "cell_type": "code",
      "metadata": {
        "scrolled": true,
        "id": "_qvzc-A9tW-C"
      },
      "source": [
        "!dwave setup"
      ],
      "execution_count": null,
      "outputs": []
    },
    {
      "cell_type": "code",
      "metadata": {
        "colab": {
          "base_uri": "https://localhost:8080/"
        },
        "id": "UpHEUgPGtW-I",
        "outputId": "e03c2361-68fd-42f3-a29b-2b4916a10476"
      },
      "source": [
        "# Load the packages that are required\n",
        "import numpy as np\n",
        "import operator\n",
        "import matplotlib.pyplot as plt\n",
        "\n",
        "import sys\n",
        "if sys.version_info < (3, 6):\n",
        "    raise Exception('Please use Python version 3.6 or greater.')\n",
        "\n",
        "try:\n",
        "    import cplex\n",
        "    from cplex.exceptions import CplexError\n",
        "except: \n",
        "    print(\"Warning: Cplex not found.\")\n",
        "import math\n",
        "\n",
        "# Qiskit packages\n",
        "from qiskit import BasicAer\n",
        "from qiskit.quantum_info import Pauli\n",
        "from qiskit.aqua import QuantumInstance, aqua_globals\n",
        "from qiskit.aqua.algorithms import NumPyMinimumEigensolver, VQE\n",
        "from qiskit.circuit.library import TwoLocal\n",
        "from qiskit.aqua.components.optimizers import SPSA\n",
        "from qiskit.aqua.operators import WeightedPauliOperator\n",
        "\n",
        "# setup aqua logging\n",
        "import logging\n",
        "from qiskit.aqua._logging import set_logging_config, build_logging_config\n",
        "#set_logging_config(build_logging_config(logging.DEBUG))  # choose INFO, DEBUG to see the log"
      ],
      "execution_count": null,
      "outputs": [
        {
          "output_type": "stream",
          "text": [
            "Warning: Cplex not found.\n"
          ],
          "name": "stdout"
        }
      ]
    },
    {
      "cell_type": "code",
      "metadata": {
        "id": "lXowS-qYtW-O"
      },
      "source": [
        "# Initialize the problem by defining the parameters\n",
        "n = 3  # number of nodes + depot (n+1)\n",
        "K = 2  # number of vehicles"
      ],
      "execution_count": null,
      "outputs": []
    },
    {
      "cell_type": "code",
      "metadata": {
        "id": "in3YJXUytW-R"
      },
      "source": [
        "# Get the data\n",
        "class Initializer():\n",
        "\n",
        "    def __init__(self, n):\n",
        "        self.n = n\n",
        "\n",
        "    def generate_instance(self):\n",
        "\n",
        "        n = self.n\n",
        "\n",
        "        # np.random.seed(33)\n",
        "        np.random.seed(1543)\n",
        "\n",
        "        xc = (np.random.rand(n) - 0.5) * 10\n",
        "        yc = (np.random.rand(n) - 0.5) * 10\n",
        "\n",
        "        instance = np.zeros([n, n])\n",
        "        for ii in range(0, n):\n",
        "            for jj in range(ii + 1, n):\n",
        "                instance[ii, jj] = (xc[ii] - xc[jj]) ** 2 + (yc[ii] - yc[jj]) ** 2\n",
        "                instance[jj, ii] = instance[ii, jj]\n",
        "\n",
        "        return xc, yc, instance"
      ],
      "execution_count": null,
      "outputs": []
    },
    {
      "cell_type": "code",
      "metadata": {
        "id": "-_6BJiTdtW-V"
      },
      "source": [
        "# Initialize the problem by randomly generating the instance\n",
        "initializer = Initializer(n)\n",
        "xc,yc,instance = initializer.generate_instance()"
      ],
      "execution_count": null,
      "outputs": []
    },
    {
      "cell_type": "code",
      "metadata": {
        "id": "GfdanPFTtW-Z"
      },
      "source": [
        "class ClassicalOptimizer:\n",
        "\n",
        "    def __init__(self, instance,n,K):\n",
        "\n",
        "        self.instance = instance\n",
        "        self.n = n  # number of nodes\n",
        "        self.K = K  # number of vehicles\n",
        "\n",
        "\n",
        "    def compute_allowed_combinations(self):\n",
        "        f = math.factorial\n",
        "        return f(self.n) / f(self.K) / f(self.n-self.K)\n",
        "\n",
        "\n",
        "    def cplex_solution(self):\n",
        "\n",
        "        # refactoring\n",
        "        instance = self.instance\n",
        "        n = self.n\n",
        "        K = self.K\n",
        "\n",
        "        my_obj = list(instance.reshape(1, n**2)[0])+[0. for x in range(0,n-1)]\n",
        "        my_ub = [1 for x in range(0,n**2+n-1)]\n",
        "        my_lb = [0 for x in range(0,n**2)] + [0.1 for x in range(0,n-1)]\n",
        "        my_ctype = \"\".join(['I' for x in range(0,n**2)]) + \"\".join(['C' for x in range(0,n-1)])\n",
        "\n",
        "        my_rhs = 2*([K] + [1 for x in range(0,n-1)]) + [1-0.1 for x in range(0,(n-1)**2-(n-1))] + [0 for x in range(0,n)]\n",
        "        my_sense = \"\".join(['E' for x in range(0,2*n)]) + \"\".join(['L' for x in range(0,(n-1)**2-(n-1))])+\"\".join(['E' for x in range(0,n)])\n",
        "\n",
        "        try:\n",
        "            my_prob = cplex.Cplex()\n",
        "            self.populatebyrow(my_prob,my_obj,my_ub,my_lb,my_ctype,my_sense,my_rhs)\n",
        "\n",
        "            my_prob.solve()\n",
        "\n",
        "        except CplexError as exc:\n",
        "            print(exc)\n",
        "            return\n",
        "\n",
        "        x = my_prob.solution.get_values()\n",
        "        x = np.array(x)\n",
        "        cost = my_prob.solution.get_objective_value()\n",
        "\n",
        "        return x,cost\n",
        "    \n",
        "\n",
        "    def populatebyrow(self,prob,my_obj,my_ub,my_lb,my_ctype,my_sense,my_rhs):\n",
        "\n",
        "        n = self.n\n",
        "    \n",
        "        prob.objective.set_sense(prob.objective.sense.minimize)\n",
        "        prob.variables.add(obj = my_obj, lb = my_lb, ub = my_ub, types = my_ctype)\n",
        "    \n",
        "        prob.set_log_stream(None)\n",
        "        prob.set_error_stream(None)\n",
        "        prob.set_warning_stream(None)\n",
        "        prob.set_results_stream(None)\n",
        "\n",
        "        rows = []\n",
        "        for ii in range(0,n):\n",
        "            col = [x for x in range(0+n*ii,n+n*ii)]\n",
        "            coef = [1 for x in range(0,n)]\n",
        "            rows.append([col, coef])\n",
        "\n",
        "        for ii in range(0,n):\n",
        "            col = [x for x in range(0+ii,n**2,n)]\n",
        "            coef = [1 for x in range(0,n)]\n",
        "\n",
        "            rows.append([col, coef])\n",
        "\n",
        "        # Sub-tour elimination constraints:\n",
        "        for ii in range(0, n):\n",
        "            for jj in range(0,n):\n",
        "                if (ii != jj)and(ii*jj>0):\n",
        "\n",
        "                    col = [ii+(jj*n), n**2+ii-1, n**2+jj-1]\n",
        "                    coef = [1, 1, -1]\n",
        "\n",
        "                    rows.append([col, coef])\n",
        "\n",
        "        for ii in range(0,n):\n",
        "            col = [(ii)*(n+1)]\n",
        "            coef = [1]\n",
        "            rows.append([col, coef])\n",
        "\n",
        "        prob.linear_constraints.add(lin_expr=rows, senses=my_sense, rhs=my_rhs)"
      ],
      "execution_count": null,
      "outputs": []
    },
    {
      "cell_type": "code",
      "metadata": {
        "colab": {
          "base_uri": "https://localhost:8080/"
        },
        "id": "-GmDqs_1tW-c",
        "outputId": "45b7985a-6088-42c4-bfec-95e5708e9960"
      },
      "source": [
        "# Instantiate the classical optimizer class\n",
        "classical_optimizer = ClassicalOptimizer(instance,n,K)\n",
        "\n",
        "# Print number of feasible solutions\n",
        "print('Number of feasible solutions = ' + str(classical_optimizer.compute_allowed_combinations()))"
      ],
      "execution_count": null,
      "outputs": [
        {
          "output_type": "stream",
          "text": [
            "Number of feasible solutions = 3.0\n"
          ],
          "name": "stdout"
        }
      ]
    },
    {
      "cell_type": "code",
      "metadata": {
        "colab": {
          "base_uri": "https://localhost:8080/"
        },
        "id": "HWpqSSAHtW-e",
        "outputId": "dcf6e2a1-7a71-4a09-e3dd-9d182f7d30f2"
      },
      "source": [
        "# Solve the problem in a classical fashion via CPLEX\n",
        "x = None\n",
        "z = None\n",
        "try:\n",
        "    x,classical_cost = classical_optimizer.cplex_solution()\n",
        "    # Put the solution in the z variable\n",
        "    z = [x[ii] for ii in range(n**2) if ii//n != ii%n]\n",
        "    # Print the solution\n",
        "    print(z)\n",
        "except: \n",
        "    print(\"CPLEX may be missing.\")"
      ],
      "execution_count": null,
      "outputs": [
        {
          "output_type": "stream",
          "text": [
            "CPLEX may be missing.\n"
          ],
          "name": "stdout"
        }
      ]
    },
    {
      "cell_type": "code",
      "metadata": {
        "id": "gjMaTmwdtW-i"
      },
      "source": [
        "# Visualize the solution\n",
        "def visualize_solution(xc, yc, x, C, n, K, title_str):\n",
        "    plt.figure()\n",
        "    plt.scatter(xc, yc, s=200)\n",
        "    for i in range(len(xc)):\n",
        "        plt.annotate(i, (xc[i] + 0.15, yc[i]), size=16, color='r')\n",
        "    plt.plot(xc[0], yc[0], 'r*', ms=20)\n",
        "\n",
        "    plt.grid()\n",
        "\n",
        "    for ii in range(0, n ** 2):\n",
        "\n",
        "        if x[ii] > 0:\n",
        "            ix = ii // n\n",
        "            iy = ii % n\n",
        "            plt.arrow(xc[ix], yc[ix], xc[iy] - xc[ix], yc[iy] - yc[ix], length_includes_head=True, head_width=.25)\n",
        "\n",
        "    plt.title(title_str+' cost = ' + str(int(C * 100) / 100.))\n",
        "    plt.show()    \n",
        "\n",
        "if x is not None:\n",
        "    visualize_solution(xc, yc, x, classical_cost, n, K, 'Classical')"
      ],
      "execution_count": null,
      "outputs": []
    },
    {
      "cell_type": "code",
      "metadata": {
        "id": "XT3I9PeTtW-p"
      },
      "source": [
        "from qiskit.optimization import QuadraticProgram\n",
        "from qiskit.optimization.algorithms import MinimumEigenOptimizer\n",
        "\n",
        "\n",
        "class QuantumOptimizer:\n",
        "\n",
        "    def __init__(self, instance, n, K):\n",
        "\n",
        "        self.instance = instance\n",
        "        self.n = n\n",
        "        self.K = K\n",
        "\n",
        "    def binary_representation(self,x_sol=0):\n",
        "\n",
        "        instance = self.instance\n",
        "        n = self.n\n",
        "        K = self.K\n",
        "\n",
        "        A = np.max(instance) * 100  # A parameter of cost function\n",
        "\n",
        "        # Determine the weights w\n",
        "        instance_vec = instance.reshape(n ** 2)\n",
        "        w_list = [instance_vec[x] for x in range(n ** 2) if instance_vec[x] > 0]\n",
        "        w = np.zeros(n * (n - 1))\n",
        "        for ii in range(len(w_list)):\n",
        "            w[ii] = w_list[ii]\n",
        "\n",
        "        # Some variables I will use\n",
        "        Id_n = np.eye(n)\n",
        "        Im_n_1 = np.ones([n - 1, n - 1])\n",
        "        Iv_n_1 = np.ones(n)\n",
        "        Iv_n_1[0] = 0\n",
        "        Iv_n = np.ones(n-1)\n",
        "        neg_Iv_n_1 = np.ones(n) - Iv_n_1\n",
        "\n",
        "        v = np.zeros([n, n*(n-1)])\n",
        "        for ii in range(n):\n",
        "            count = ii-1\n",
        "            for jj in range(n*(n-1)):\n",
        "\n",
        "                if jj//(n-1) == ii:\n",
        "                    count = ii\n",
        "\n",
        "                if jj//(n-1) != ii and jj%(n-1) == count:\n",
        "                    v[ii][jj] = 1.\n",
        "\n",
        "        vn = np.sum(v[1:], axis=0)\n",
        "\n",
        "        # Q defines the interactions between variables\n",
        "        Q = A*(np.kron(Id_n, Im_n_1) + np.dot(v.T, v))\n",
        "\n",
        "        # g defines the contribution from the individual variables\n",
        "        g = w - 2 * A * (np.kron(Iv_n_1,Iv_n) + vn.T) - \\\n",
        "                2 * A * K * (np.kron(neg_Iv_n_1, Iv_n) + v[0].T)\n",
        "\n",
        "        # c is the constant offset\n",
        "        c = 2 * A * (n-1) + 2 * A * (K ** 2)\n",
        "\n",
        "        try:\n",
        "            max(x_sol)\n",
        "            # Evaluates the cost distance from a binary representation of a path\n",
        "            fun = lambda x: np.dot(np.around(x), np.dot(Q, np.around(x))) + np.dot(g, np.around(x)) + c\n",
        "            cost = fun(x_sol)\n",
        "        except:\n",
        "            cost = 0\n",
        "\n",
        "        return Q, g, c, cost\n",
        "\n",
        "    def construct_problem(self, Q, g, c) -> QuadraticProgram:\n",
        "        qp = QuadraticProgram()\n",
        "        for i in range(n * (n - 1)):\n",
        "            qp.binary_var(str(i))\n",
        "        qp.objective.quadratic = Q\n",
        "        qp.objective.linear = g\n",
        "        qp.objective.constant = c\n",
        "        return qp\n",
        "    \n",
        "    def solve_problem(self, qp):\n",
        "        aqua_globals.random_seed = 10598\n",
        "        quantum_instance = QuantumInstance(BasicAer.get_backend('qasm_simulator'), #pick a backend.\n",
        "                                           seed_simulator=aqua_globals.random_seed,\n",
        "                                           seed_transpiler=aqua_globals.random_seed)\n",
        "\n",
        "        vqe = VQE(quantum_instance=quantum_instance)\n",
        "        optimizer = MinimumEigenOptimizer(min_eigen_solver=vqe)\n",
        "        result = optimizer.solve(qp)\n",
        "        # compute cost of the obtained result\n",
        "        _,_,_,level = self.binary_representation(x_sol=result.x)\n",
        "        return result.x, level"
      ],
      "execution_count": null,
      "outputs": []
    },
    {
      "cell_type": "code",
      "metadata": {
        "id": "BJTIPig9tW-r"
      },
      "source": [
        "# Instantiate the quantum optimizer class with parameters: \n",
        "quantum_optimizer = QuantumOptimizer(instance, n, K)"
      ],
      "execution_count": null,
      "outputs": []
    },
    {
      "cell_type": "code",
      "metadata": {
        "colab": {
          "base_uri": "https://localhost:8080/"
        },
        "id": "GG4mfGmKtW-s",
        "outputId": "a6160698-b2ef-4110-c1ae-9769ddb2de05"
      },
      "source": [
        "# Check if the binary representation is correct\n",
        "try:\n",
        "    if z is not None:\n",
        "        Q, g, c, binary_cost = quantum_optimizer.binary_representation(x_sol = z)\n",
        "        print(\"Binary cost:\", binary_cost, \"classical cost:\", classical_cost)\n",
        "        if np.abs(binary_cost - classical_cost) < 0.01:\n",
        "            print('Binary formulation is correct')\n",
        "        else: print('Error in the binary formulation')\n",
        "    else:\n",
        "        print('Could not verify the correctness, due to CPLEX solution being unavailable.')\n",
        "        Q, g, c, binary_cost = quantum_optimizer.binary_representation()\n",
        "        print(\"Binary cost:\", binary_cost)\n",
        "except NameError as e:\n",
        "    print(\"Warning: Please run the cells above first.\")\n",
        "    print(e)"
      ],
      "execution_count": null,
      "outputs": [
        {
          "output_type": "stream",
          "text": [
            "Could not verify the correctness, due to CPLEX solution being unavailable.\n",
            "Binary cost: 0\n"
          ],
          "name": "stdout"
        }
      ]
    },
    {
      "cell_type": "code",
      "metadata": {
        "id": "-rKGtzBGtW-u"
      },
      "source": [
        "qp = quantum_optimizer.construct_problem(Q, g, c)"
      ],
      "execution_count": null,
      "outputs": []
    },
    {
      "cell_type": "code",
      "metadata": {
        "colab": {
          "base_uri": "https://localhost:8080/"
        },
        "id": "c45zr4GGtW-v",
        "outputId": "d4e55a5e-3e28-464e-ee66-5273219525fc"
      },
      "source": [
        "quantum_solution, quantum_cost = quantum_optimizer.solve_problem(qp)\n",
        "\n",
        "print(quantum_solution, quantum_cost)"
      ],
      "execution_count": null,
      "outputs": [
        {
          "output_type": "stream",
          "text": [
            "[1. 1. 1. 0. 1. 0.] 132.11148115684045\n"
          ],
          "name": "stdout"
        }
      ]
    },
    {
      "cell_type": "code",
      "metadata": {
        "colab": {
          "base_uri": "https://localhost:8080/",
          "height": 281
        },
        "id": "cXaiSIxutW-y",
        "outputId": "4c324c84-63aa-47a9-ec79-f7fd52758911"
      },
      "source": [
        "# Put the solution in a way that is compatible with the classical variables\n",
        "x_quantum = np.zeros(n**2)\n",
        "kk = 0\n",
        "for ii in range(n ** 2):\n",
        "    if ii // n != ii % n:\n",
        "        x_quantum[ii] = quantum_solution[kk]\n",
        "        kk +=  1\n",
        "\n",
        "\n",
        "# visualize the solution \n",
        "visualize_solution(xc, yc, x_quantum, quantum_cost, n, K, 'Quantum')\n",
        "                   \n",
        "# and visualize the classical for comparison\n",
        "if x is not None:\n",
        "    visualize_solution(xc, yc, x, classical_cost, n, K, 'Classical')"
      ],
      "execution_count": null,
      "outputs": [
        {
          "output_type": "display_data",
          "data": {
            "image/png": "[encoded data removed]",
            "text/plain": [
              "<Figure size 432x288 with 1 Axes>"
            ]
          },
          "metadata": {
            "tags": [],
            "needs_background": "light"
          }
        }
      ]
    },
    {
      "cell_type": "code",
      "metadata": {
        "id": "xbZZLSh8mMcH"
      },
      "source": [
        ""
      ],
      "execution_count": null,
      "outputs": []
    },
    {
      "cell_type": "markdown",
      "metadata": {
        "id": "MtkPorGuDiVp"
      },
      "source": [
        "#Optimization using DWAVE through DWave-qiskit-plugin "
      ]
    },
    {
      "cell_type": "markdown",
      "metadata": {
        "id": "CrZr7vGEgVob"
      },
      "source": [
        "#DWave Quantum optimizer:\n",
        "##class DQuantumOptimizer"
      ]
    },
    {
      "cell_type": "code",
      "metadata": {
        "id": "B_x-QuyK1DZP"
      },
      "source": [
        "\n",
        "\n",
        "\n",
        "class DQuantumOptimizer:\n",
        "\n",
        "    def __init__(self, instance, n, K):\n",
        "\n",
        "        self.instance = instance\n",
        "        self.n = n\n",
        "        self.K = K\n",
        "\n",
        "    def binary_representation(self,x_sol=0):\n",
        "\n",
        "        instance = self.instance\n",
        "        n = self.n\n",
        "        K = self.K\n",
        "\n",
        "        A = np.max(instance) * 100  # A parameter of cost function\n",
        "\n",
        "        # Determine the weights w\n",
        "        instance_vec = instance.reshape(n ** 2)\n",
        "        w_list = [instance_vec[x] for x in range(n ** 2) if instance_vec[x] > 0]\n",
        "        w = np.zeros(n * (n - 1))\n",
        "        for ii in range(len(w_list)):\n",
        "            w[ii] = w_list[ii]\n",
        "\n",
        "        # Some variables I will use\n",
        "        Id_n = np.eye(n)\n",
        "        Im_n_1 = np.ones([n - 1, n - 1])\n",
        "        Iv_n_1 = np.ones(n)\n",
        "        Iv_n_1[0] = 0\n",
        "        Iv_n = np.ones(n-1)\n",
        "        neg_Iv_n_1 = np.ones(n) - Iv_n_1\n",
        "\n",
        "        v = np.zeros([n, n*(n-1)])\n",
        "        for ii in range(n):\n",
        "            count = ii-1\n",
        "            for jj in range(n*(n-1)):\n",
        "\n",
        "                if jj//(n-1) == ii:\n",
        "                    count = ii\n",
        "\n",
        "                if jj//(n-1) != ii and jj%(n-1) == count:\n",
        "                    v[ii][jj] = 1.\n",
        "\n",
        "        vn = np.sum(v[1:], axis=0)\n",
        "\n",
        "        # Q defines the interactions between variables\n",
        "        Q = A*(np.kron(Id_n, Im_n_1) + np.dot(v.T, v))\n",
        "\n",
        "        # g defines the contribution from the individual variables\n",
        "        g = w - 2 * A * (np.kron(Iv_n_1,Iv_n) + vn.T) - \\\n",
        "                2 * A * K * (np.kron(neg_Iv_n_1, Iv_n) + v[0].T)\n",
        "\n",
        "        # c is the constant offset\n",
        "        c = 2 * A * (n-1) + 2 * A * (K ** 2)\n",
        "\n",
        "        try:\n",
        "            max(x_sol)\n",
        "            # Evaluates the cost distance from a binary representation of a path\n",
        "            fun = lambda x: np.dot(np.around(x), np.dot(Q, np.around(x))) + np.dot(g, np.around(x)) + c\n",
        "            cost = fun(x_sol)\n",
        "        except:\n",
        "            cost = 0\n",
        "\n",
        "        return Q, g, c, cost\n",
        "\n",
        "    def construct_problem(self, Q, g, c) -> QuadraticProgram:\n",
        "        qp = QuadraticProgram()\n",
        "        for i in range(n * (n - 1)):\n",
        "            qp.binary_var(str(i))\n",
        "        qp.objective.quadratic = Q\n",
        "        qp.objective.linear = g\n",
        "        qp.objective.constant = c\n",
        "        return qp\n",
        "    \n",
        "    def solve_problem(self, qp):\n",
        "        aqua_globals.random_seed = 10598\n",
        "        # quantum_instance = QuantumInstance(BasicAer.get_backend('qasm_simulator'),\n",
        "        #                                    seed_simulator=aqua_globals.random_seed,\n",
        "        #                                    seed_transpiler=aqua_globals.random_seed)\n",
        "\n",
        "        # vqe = VQE(quantum_instance=quantum_instance)\n",
        "        # optimizer = MinimumEigenOptimizer(min_eigen_solver=vqe)\n",
        "        # result = optimizer.solve(qp)\n",
        "        dwave_mes = DWaveMinimumEigensolver()\n",
        "        optimizer = MinimumEigenOptimizer(dwave_mes)\n",
        "        result = optimizer.solve(qp)\n",
        "        # compute cost of the obtained result\n",
        "        _,_,_,level = self.binary_representation(x_sol=result.x)\n",
        "        return result.x, level"
      ],
      "execution_count": null,
      "outputs": []
    },
    {
      "cell_type": "code",
      "metadata": {
        "id": "Mn10cjwM72s2"
      },
      "source": [
        "# Instantiate the quantum optimizer class with parameters: \n",
        "quantum_optimizer1 = DQuantumOptimizer(instance, n, K)"
      ],
      "execution_count": null,
      "outputs": []
    },
    {
      "cell_type": "code",
      "metadata": {
        "colab": {
          "base_uri": "https://localhost:8080/"
        },
        "id": "BJtJzsit8C2q",
        "outputId": "b3a470cf-9317-4905-ea15-6540e5e6c7cf"
      },
      "source": [
        "# Check if the binary representation is correct\n",
        "try:\n",
        "    if z is not None:\n",
        "        Q, g, c, binary_cost = quantum_optimizer1.binary_representation(x_sol = z)\n",
        "        print(\"Binary cost:\", binary_cost, \"classical cost:\", classical_cost)\n",
        "        if np.abs(binary_cost - classical_cost) < 0.01:\n",
        "            print('Binary formulation is correct')\n",
        "        else: print('Error in the binary formulation')\n",
        "    else:\n",
        "        print('Could not verify the correctness, due to CPLEX solution being unavailable.')\n",
        "        Q, g, c, binary_cost = quantum_optimizer1.binary_representation()\n",
        "        print(\"Binary cost:\", binary_cost)\n",
        "except NameError as e:\n",
        "    print(\"Warning: Please run the cells above first.\")\n",
        "    print(e)"
      ],
      "execution_count": null,
      "outputs": [
        {
          "output_type": "stream",
          "text": [
            "Could not verify the correctness, due to CPLEX solution being unavailable.\n",
            "Binary cost: 0\n"
          ],
          "name": "stdout"
        }
      ]
    },
    {
      "cell_type": "code",
      "metadata": {
        "id": "jWUX2iSs9yw8"
      },
      "source": [
        "qp1 = quantum_optimizer1.construct_problem(Q, g, c)"
      ],
      "execution_count": null,
      "outputs": []
    },
    {
      "cell_type": "code",
      "metadata": {
        "colab": {
          "base_uri": "https://localhost:8080/"
        },
        "id": "BuPxe8X4_QGU",
        "outputId": "b708b206-a452-4d79-e872-9b5fddf3dd9b"
      },
      "source": [
        "from dwave.plugins.qiskit import DWaveMinimumEigensolver\n",
        "quantum_solution1, quantum_cost1 = quantum_optimizer1.solve_problem(qp1)\n",
        "\n",
        "print(quantum_solution1, quantum_cost1)"
      ],
      "execution_count": null,
      "outputs": [
        {
          "output_type": "stream",
          "text": [
            "[1. 1. 1. 0. 1. 0.] 132.11148115684045\n"
          ],
          "name": "stdout"
        }
      ]
    },
    {
      "cell_type": "code",
      "metadata": {
        "colab": {
          "base_uri": "https://localhost:8080/",
          "height": 281
        },
        "id": "66QFqlUj-C5u",
        "outputId": "e764a4d8-2e11-4163-d4e5-b83ebbc54732"
      },
      "source": [
        "# Put the solution in a way that is compatible with the classical variables\n",
        "x_quantum = np.zeros(n**2)\n",
        "kk = 0\n",
        "for ii in range(n ** 2):\n",
        "    if ii // n != ii % n:\n",
        "        x_quantum[ii] = quantum_solution1[kk]\n",
        "        kk +=  1\n",
        "\n",
        "\n",
        "# visualize the solution \n",
        "visualize_solution(xc, yc, x_quantum, quantum_cost1, n, K, 'Quantum')\n",
        "                   \n",
        "# and visualize the classical for comparison\n",
        "if x is not None:\n",
        "    visualize_solution(xc, yc, x, classical_cost, n, K, 'Classical')"
      ],
      "execution_count": null,
      "outputs": [
        {
          "output_type": "display_data",
          "data": {
            "image/png": "[encoded data removed]",
            "text/plain": [
              "<Figure size 432x288 with 1 Axes>"
            ]
          },
          "metadata": {
            "tags": [],
            "needs_background": "light"
          }
        }
      ]
    },
    {
      "cell_type": "code",
      "metadata": {
        "id": "9IYmsSjmluGZ"
      },
      "source": [
        ""
      ],
      "execution_count": null,
      "outputs": []
    },
    {
      "cell_type": "markdown",
      "metadata": {
        "id": "5wA1Sa8RlofH"
      },
      "source": [
        "#Optimization using qiskit\n",
        "##For n = 5, K = 3\n",
        "##Takes very long time"
      ]
    },
    {
      "cell_type": "code",
      "metadata": {
        "id": "HAlmFoss-KgL"
      },
      "source": [
        "n = 5 \n",
        "K = 3"
      ],
      "execution_count": null,
      "outputs": []
    },
    {
      "cell_type": "code",
      "metadata": {
        "id": "mK__XEHuVi66"
      },
      "source": [
        "initializer = Initializer(n)\n",
        "xc,yc,instance = initializer.generate_instance()"
      ],
      "execution_count": null,
      "outputs": []
    },
    {
      "cell_type": "code",
      "metadata": {
        "colab": {
          "base_uri": "https://localhost:8080/"
        },
        "id": "1Pz30EvCVm9l",
        "outputId": "6406cd0f-9635-4311-898f-4c7b2e0e5ba0"
      },
      "source": [
        "# Instantiate the classical optimizer class\n",
        "classical_optimizer = ClassicalOptimizer(instance,n,K)\n",
        "\n",
        "# Print number of feasible solutions\n",
        "print('Number of feasible solutions = ' + str(classical_optimizer.compute_allowed_combinations()))"
      ],
      "execution_count": null,
      "outputs": [
        {
          "output_type": "stream",
          "text": [
            "Number of feasible solutions = 10.0\n"
          ],
          "name": "stdout"
        }
      ]
    },
    {
      "cell_type": "code",
      "metadata": {
        "id": "PPTHffxSVsCv"
      },
      "source": [
        "quantum_optimizer = QuantumOptimizer(instance, n, K)"
      ],
      "execution_count": null,
      "outputs": []
    },
    {
      "cell_type": "code",
      "metadata": {
        "id": "KAETbCPTV1iK"
      },
      "source": [
        "qp = quantum_optimizer.construct_problem(Q, g, c)"
      ],
      "execution_count": null,
      "outputs": []
    },
    {
      "cell_type": "code",
      "metadata": {
        "colab": {
          "base_uri": "https://localhost:8080/",
          "height": 358
        },
        "id": "atZUs4SmV_W2",
        "outputId": "10a678b0-eb0e-4750-c534-9a98c74b9a27"
      },
      "source": [
        "quantum_solution, quantum_cost = quantum_optimizer.solve_problem(qp)\n",
        "\n",
        "print(quantum_solution, quantum_cost)"
      ],
      "execution_count": null,
      "outputs": [
        {
          "output_type": "error",
          "ename": "KeyboardInterrupt",
          "evalue": "ignored",
          "traceback": [
            "\u001b[0;31m---------------------------------------------------------------------------\u001b[0m",
            "\u001b[0;31mKeyboardInterrupt\u001b[0m                         Traceback (most recent call last)",
            "\u001b[0;32m<ipython-input-28-88e2397953f5>\u001b[0m in \u001b[0;36m<module>\u001b[0;34m()\u001b[0m\n\u001b[0;32m----> 1\u001b[0;31m \u001b[0mquantum_solution\u001b[0m\u001b[0;34m,\u001b[0m \u001b[0mquantum_cost\u001b[0m \u001b[0;34m=\u001b[0m \u001b[0mquantum_optimizer\u001b[0m\u001b[0;34m.\u001b[0m\u001b[0msolve_problem\u001b[0m\u001b[0;34m(\u001b[0m\u001b[0mqp\u001b[0m\u001b[0;34m)\u001b[0m\u001b[0;34m\u001b[0m\u001b[0;34m\u001b[0m\u001b[0m\n\u001b[0m\u001b[1;32m      2\u001b[0m \u001b[0;34m\u001b[0m\u001b[0m\n\u001b[1;32m      3\u001b[0m \u001b[0mprint\u001b[0m\u001b[0;34m(\u001b[0m\u001b[0mquantum_solution\u001b[0m\u001b[0;34m,\u001b[0m \u001b[0mquantum_cost\u001b[0m\u001b[0;34m)\u001b[0m\u001b[0;34m\u001b[0m\u001b[0;34m\u001b[0m\u001b[0m\n",
            "\u001b[0;32m<ipython-input-11-90dfaeb9d588>\u001b[0m in \u001b[0;36msolve_problem\u001b[0;34m(self, qp)\u001b[0m\n\u001b[1;32m     83\u001b[0m         \u001b[0mvqe\u001b[0m \u001b[0;34m=\u001b[0m \u001b[0mVQE\u001b[0m\u001b[0;34m(\u001b[0m\u001b[0mquantum_instance\u001b[0m\u001b[0;34m=\u001b[0m\u001b[0mquantum_instance\u001b[0m\u001b[0;34m)\u001b[0m\u001b[0;34m\u001b[0m\u001b[0;34m\u001b[0m\u001b[0m\n\u001b[1;32m     84\u001b[0m         \u001b[0moptimizer\u001b[0m \u001b[0;34m=\u001b[0m \u001b[0mMinimumEigenOptimizer\u001b[0m\u001b[0;34m(\u001b[0m\u001b[0mmin_eigen_solver\u001b[0m\u001b[0;34m=\u001b[0m\u001b[0mvqe\u001b[0m\u001b[0;34m)\u001b[0m\u001b[0;34m\u001b[0m\u001b[0;34m\u001b[0m\u001b[0m\n\u001b[0;32m---> 85\u001b[0;31m         \u001b[0mresult\u001b[0m \u001b[0;34m=\u001b[0m \u001b[0moptimizer\u001b[0m\u001b[0;34m.\u001b[0m\u001b[0msolve\u001b[0m\u001b[0;34m(\u001b[0m\u001b[0mqp\u001b[0m\u001b[0;34m)\u001b[0m\u001b[0;34m\u001b[0m\u001b[0;34m\u001b[0m\u001b[0m\n\u001b[0m\u001b[1;32m     86\u001b[0m         \u001b[0;31m# compute cost of the obtained result\u001b[0m\u001b[0;34m\u001b[0m\u001b[0;34m\u001b[0m\u001b[0;34m\u001b[0m\u001b[0m\n\u001b[1;32m     87\u001b[0m         \u001b[0m_\u001b[0m\u001b[0;34m,\u001b[0m\u001b[0m_\u001b[0m\u001b[0;34m,\u001b[0m\u001b[0m_\u001b[0m\u001b[0;34m,\u001b[0m\u001b[0mlevel\u001b[0m \u001b[0;34m=\u001b[0m \u001b[0mself\u001b[0m\u001b[0;34m.\u001b[0m\u001b[0mbinary_representation\u001b[0m\u001b[0;34m(\u001b[0m\u001b[0mx_sol\u001b[0m\u001b[0;34m=\u001b[0m\u001b[0mresult\u001b[0m\u001b[0;34m.\u001b[0m\u001b[0mx\u001b[0m\u001b[0;34m)\u001b[0m\u001b[0;34m\u001b[0m\u001b[0;34m\u001b[0m\u001b[0m\n",
            "\u001b[0;32m/usr/local/lib/python3.7/dist-packages/qiskit/optimization/algorithms/minimum_eigen_optimizer.py\u001b[0m in \u001b[0;36msolve\u001b[0;34m(self, problem)\u001b[0m\n\u001b[1;32m    184\u001b[0m \u001b[0;34m\u001b[0m\u001b[0m\n\u001b[1;32m    185\u001b[0m             \u001b[0;31m# approximate ground state of operator using min eigen solver\u001b[0m\u001b[0;34m\u001b[0m\u001b[0;34m\u001b[0m\u001b[0;34m\u001b[0m\u001b[0m\n\u001b[0;32m--> 186\u001b[0;31m             \u001b[0meigen_result\u001b[0m \u001b[0;34m=\u001b[0m \u001b[0mself\u001b[0m\u001b[0;34m.\u001b[0m\u001b[0m_min_eigen_solver\u001b[0m\u001b[0;34m.\u001b[0m\u001b[0mcompute_minimum_eigenvalue\u001b[0m\u001b[0;34m(\u001b[0m\u001b[0moperator\u001b[0m\u001b[0;34m)\u001b[0m\u001b[0;34m\u001b[0m\u001b[0;34m\u001b[0m\u001b[0m\n\u001b[0m\u001b[1;32m    187\u001b[0m \u001b[0;34m\u001b[0m\u001b[0m\n\u001b[1;32m    188\u001b[0m             \u001b[0;31m# analyze results\u001b[0m\u001b[0;34m\u001b[0m\u001b[0;34m\u001b[0m\u001b[0;34m\u001b[0m\u001b[0m\n",
            "\u001b[0;32m/usr/local/lib/python3.7/dist-packages/qiskit/aqua/algorithms/minimum_eigen_solvers/vqe.py\u001b[0m in \u001b[0;36mcompute_minimum_eigenvalue\u001b[0;34m(self, operator, aux_operators)\u001b[0m\n\u001b[1;32m    492\u001b[0m     ) -> MinimumEigensolverResult:\n\u001b[1;32m    493\u001b[0m         \u001b[0msuper\u001b[0m\u001b[0;34m(\u001b[0m\u001b[0;34m)\u001b[0m\u001b[0;34m.\u001b[0m\u001b[0mcompute_minimum_eigenvalue\u001b[0m\u001b[0;34m(\u001b[0m\u001b[0moperator\u001b[0m\u001b[0;34m,\u001b[0m \u001b[0maux_operators\u001b[0m\u001b[0;34m)\u001b[0m\u001b[0;34m\u001b[0m\u001b[0;34m\u001b[0m\u001b[0m\n\u001b[0;32m--> 494\u001b[0;31m         \u001b[0;32mreturn\u001b[0m \u001b[0mself\u001b[0m\u001b[0;34m.\u001b[0m\u001b[0m_run\u001b[0m\u001b[0;34m(\u001b[0m\u001b[0;34m)\u001b[0m\u001b[0;34m\u001b[0m\u001b[0;34m\u001b[0m\u001b[0m\n\u001b[0m\u001b[1;32m    495\u001b[0m \u001b[0;34m\u001b[0m\u001b[0m\n\u001b[1;32m    496\u001b[0m     def _energy_evaluation(self, parameters: Union[List[float], np.ndarray]\n",
            "\u001b[0;32m/usr/local/lib/python3.7/dist-packages/qiskit/aqua/algorithms/minimum_eigen_solvers/vqe.py\u001b[0m in \u001b[0;36m_run\u001b[0;34m(self)\u001b[0m\n\u001b[1;32m    431\u001b[0m                                      \u001b[0mcost_fn\u001b[0m\u001b[0;34m=\u001b[0m\u001b[0mself\u001b[0m\u001b[0;34m.\u001b[0m\u001b[0m_energy_evaluation\u001b[0m\u001b[0;34m,\u001b[0m\u001b[0;34m\u001b[0m\u001b[0;34m\u001b[0m\u001b[0m\n\u001b[1;32m    432\u001b[0m                                      \u001b[0mgradient_fn\u001b[0m\u001b[0;34m=\u001b[0m\u001b[0mself\u001b[0m\u001b[0;34m.\u001b[0m\u001b[0m_gradient\u001b[0m\u001b[0;34m,\u001b[0m\u001b[0;34m\u001b[0m\u001b[0;34m\u001b[0m\u001b[0m\n\u001b[0;32m--> 433\u001b[0;31m                                      optimizer=self.optimizer)\n\u001b[0m\u001b[1;32m    434\u001b[0m \u001b[0;34m\u001b[0m\u001b[0m\n\u001b[1;32m    435\u001b[0m         \u001b[0;31m# TODO remove all former dictionary logic\u001b[0m\u001b[0;34m\u001b[0m\u001b[0;34m\u001b[0m\u001b[0;34m\u001b[0m\u001b[0m\n",
            "\u001b[0;32m/usr/local/lib/python3.7/dist-packages/qiskit/aqua/algorithms/vq_algorithm.py\u001b[0m in \u001b[0;36mfind_minimum\u001b[0;34m(self, initial_point, var_form, cost_fn, optimizer, gradient_fn)\u001b[0m\n\u001b[1;32m    211\u001b[0m                                                                       \u001b[0mvariable_bounds\u001b[0m\u001b[0;34m=\u001b[0m\u001b[0mbounds\u001b[0m\u001b[0;34m,\u001b[0m\u001b[0;34m\u001b[0m\u001b[0;34m\u001b[0m\u001b[0m\n\u001b[1;32m    212\u001b[0m                                                                       \u001b[0minitial_point\u001b[0m\u001b[0;34m=\u001b[0m\u001b[0minitial_point\u001b[0m\u001b[0;34m,\u001b[0m\u001b[0;34m\u001b[0m\u001b[0;34m\u001b[0m\u001b[0m\n\u001b[0;32m--> 213\u001b[0;31m                                                                       gradient_function=gradient_fn)\n\u001b[0m\u001b[1;32m    214\u001b[0m         \u001b[0meval_time\u001b[0m \u001b[0;34m=\u001b[0m \u001b[0mtime\u001b[0m\u001b[0;34m.\u001b[0m\u001b[0mtime\u001b[0m\u001b[0;34m(\u001b[0m\u001b[0;34m)\u001b[0m \u001b[0;34m-\u001b[0m \u001b[0mstart\u001b[0m\u001b[0;34m\u001b[0m\u001b[0;34m\u001b[0m\u001b[0m\n\u001b[1;32m    215\u001b[0m \u001b[0;34m\u001b[0m\u001b[0m\n",
            "\u001b[0;32m/usr/local/lib/python3.7/dist-packages/qiskit/aqua/components/optimizers/slsqp.py\u001b[0m in \u001b[0;36moptimize\u001b[0;34m(self, num_vars, objective_function, gradient_function, variable_bounds, initial_point)\u001b[0m\n\u001b[1;32m     83\u001b[0m         res = minimize(objective_function, initial_point, jac=gradient_function,\n\u001b[1;32m     84\u001b[0m                        \u001b[0mtol\u001b[0m\u001b[0;34m=\u001b[0m\u001b[0mself\u001b[0m\u001b[0;34m.\u001b[0m\u001b[0m_tol\u001b[0m\u001b[0;34m,\u001b[0m \u001b[0mbounds\u001b[0m\u001b[0;34m=\u001b[0m\u001b[0mvariable_bounds\u001b[0m\u001b[0;34m,\u001b[0m \u001b[0mmethod\u001b[0m\u001b[0;34m=\u001b[0m\u001b[0;34m\"SLSQP\"\u001b[0m\u001b[0;34m,\u001b[0m\u001b[0;34m\u001b[0m\u001b[0;34m\u001b[0m\u001b[0m\n\u001b[0;32m---> 85\u001b[0;31m                        options=self._options)\n\u001b[0m\u001b[1;32m     86\u001b[0m         \u001b[0;32mreturn\u001b[0m \u001b[0mres\u001b[0m\u001b[0;34m.\u001b[0m\u001b[0mx\u001b[0m\u001b[0;34m,\u001b[0m \u001b[0mres\u001b[0m\u001b[0;34m.\u001b[0m\u001b[0mfun\u001b[0m\u001b[0;34m,\u001b[0m \u001b[0mres\u001b[0m\u001b[0;34m.\u001b[0m\u001b[0mnfev\u001b[0m\u001b[0;34m\u001b[0m\u001b[0;34m\u001b[0m\u001b[0m\n",
            "\u001b[0;32m/usr/local/lib/python3.7/dist-packages/scipy/optimize/_minimize.py\u001b[0m in \u001b[0;36mminimize\u001b[0;34m(fun, x0, args, method, jac, hess, hessp, bounds, constraints, tol, callback, options)\u001b[0m\n\u001b[1;32m    616\u001b[0m     \u001b[0;32melif\u001b[0m \u001b[0mmeth\u001b[0m \u001b[0;34m==\u001b[0m \u001b[0;34m'slsqp'\u001b[0m\u001b[0;34m:\u001b[0m\u001b[0;34m\u001b[0m\u001b[0;34m\u001b[0m\u001b[0m\n\u001b[1;32m    617\u001b[0m         return _minimize_slsqp(fun, x0, args, jac, bounds,\n\u001b[0;32m--> 618\u001b[0;31m                                constraints, callback=callback, **options)\n\u001b[0m\u001b[1;32m    619\u001b[0m     \u001b[0;32melif\u001b[0m \u001b[0mmeth\u001b[0m \u001b[0;34m==\u001b[0m \u001b[0;34m'trust-constr'\u001b[0m\u001b[0;34m:\u001b[0m\u001b[0;34m\u001b[0m\u001b[0;34m\u001b[0m\u001b[0m\n\u001b[1;32m    620\u001b[0m         return _minimize_trustregion_constr(fun, x0, args, jac, hess, hessp,\n",
            "\u001b[0;32m/usr/local/lib/python3.7/dist-packages/scipy/optimize/slsqp.py\u001b[0m in \u001b[0;36m_minimize_slsqp\u001b[0;34m(func, x0, args, jac, bounds, constraints, maxiter, ftol, iprint, disp, eps, callback, **unknown_options)\u001b[0m\n\u001b[1;32m    421\u001b[0m             \u001b[0;31m# Compute the derivatives of the objective function\u001b[0m\u001b[0;34m\u001b[0m\u001b[0;34m\u001b[0m\u001b[0;34m\u001b[0m\u001b[0m\n\u001b[1;32m    422\u001b[0m             \u001b[0;31m# For some reason SLSQP wants g dimensioned to n+1\u001b[0m\u001b[0;34m\u001b[0m\u001b[0;34m\u001b[0m\u001b[0;34m\u001b[0m\u001b[0m\n\u001b[0;32m--> 423\u001b[0;31m             \u001b[0mg\u001b[0m \u001b[0;34m=\u001b[0m \u001b[0mappend\u001b[0m\u001b[0;34m(\u001b[0m\u001b[0mfprime\u001b[0m\u001b[0;34m(\u001b[0m\u001b[0mx\u001b[0m\u001b[0;34m)\u001b[0m\u001b[0;34m,\u001b[0m \u001b[0;36m0.0\u001b[0m\u001b[0;34m)\u001b[0m\u001b[0;34m\u001b[0m\u001b[0;34m\u001b[0m\u001b[0m\n\u001b[0m\u001b[1;32m    424\u001b[0m \u001b[0;34m\u001b[0m\u001b[0m\n\u001b[1;32m    425\u001b[0m             \u001b[0;31m# Compute the normals of the constraints\u001b[0m\u001b[0;34m\u001b[0m\u001b[0;34m\u001b[0m\u001b[0;34m\u001b[0m\u001b[0m\n",
            "\u001b[0;32m/usr/local/lib/python3.7/dist-packages/scipy/optimize/optimize.py\u001b[0m in \u001b[0;36mfunction_wrapper\u001b[0;34m(*wrapper_args)\u001b[0m\n\u001b[1;32m    325\u001b[0m     \u001b[0;32mdef\u001b[0m \u001b[0mfunction_wrapper\u001b[0m\u001b[0;34m(\u001b[0m\u001b[0;34m*\u001b[0m\u001b[0mwrapper_args\u001b[0m\u001b[0;34m)\u001b[0m\u001b[0;34m:\u001b[0m\u001b[0;34m\u001b[0m\u001b[0;34m\u001b[0m\u001b[0m\n\u001b[1;32m    326\u001b[0m         \u001b[0mncalls\u001b[0m\u001b[0;34m[\u001b[0m\u001b[0;36m0\u001b[0m\u001b[0;34m]\u001b[0m \u001b[0;34m+=\u001b[0m \u001b[0;36m1\u001b[0m\u001b[0;34m\u001b[0m\u001b[0;34m\u001b[0m\u001b[0m\n\u001b[0;32m--> 327\u001b[0;31m         \u001b[0;32mreturn\u001b[0m \u001b[0mfunction\u001b[0m\u001b[0;34m(\u001b[0m\u001b[0;34m*\u001b[0m\u001b[0;34m(\u001b[0m\u001b[0mwrapper_args\u001b[0m \u001b[0;34m+\u001b[0m \u001b[0margs\u001b[0m\u001b[0;34m)\u001b[0m\u001b[0;34m)\u001b[0m\u001b[0;34m\u001b[0m\u001b[0;34m\u001b[0m\u001b[0m\n\u001b[0m\u001b[1;32m    328\u001b[0m \u001b[0;34m\u001b[0m\u001b[0m\n\u001b[1;32m    329\u001b[0m     \u001b[0;32mreturn\u001b[0m \u001b[0mncalls\u001b[0m\u001b[0;34m,\u001b[0m \u001b[0mfunction_wrapper\u001b[0m\u001b[0;34m\u001b[0m\u001b[0;34m\u001b[0m\u001b[0m\n",
            "\u001b[0;32m/usr/local/lib/python3.7/dist-packages/scipy/optimize/slsqp.py\u001b[0m in \u001b[0;36mapprox_jacobian\u001b[0;34m(x, func, epsilon, *args)\u001b[0m\n\u001b[1;32m     61\u001b[0m     \u001b[0;32mfor\u001b[0m \u001b[0mi\u001b[0m \u001b[0;32min\u001b[0m \u001b[0mrange\u001b[0m\u001b[0;34m(\u001b[0m\u001b[0mlen\u001b[0m\u001b[0;34m(\u001b[0m\u001b[0mx0\u001b[0m\u001b[0;34m)\u001b[0m\u001b[0;34m)\u001b[0m\u001b[0;34m:\u001b[0m\u001b[0;34m\u001b[0m\u001b[0;34m\u001b[0m\u001b[0m\n\u001b[1;32m     62\u001b[0m         \u001b[0mdx\u001b[0m\u001b[0;34m[\u001b[0m\u001b[0mi\u001b[0m\u001b[0;34m]\u001b[0m \u001b[0;34m=\u001b[0m \u001b[0mepsilon\u001b[0m\u001b[0;34m\u001b[0m\u001b[0;34m\u001b[0m\u001b[0m\n\u001b[0;32m---> 63\u001b[0;31m         \u001b[0mjac\u001b[0m\u001b[0;34m[\u001b[0m\u001b[0mi\u001b[0m\u001b[0;34m]\u001b[0m \u001b[0;34m=\u001b[0m \u001b[0;34m(\u001b[0m\u001b[0mfunc\u001b[0m\u001b[0;34m(\u001b[0m\u001b[0;34m*\u001b[0m\u001b[0;34m(\u001b[0m\u001b[0;34m(\u001b[0m\u001b[0mx0\u001b[0m\u001b[0;34m+\u001b[0m\u001b[0mdx\u001b[0m\u001b[0;34m,\u001b[0m\u001b[0;34m)\u001b[0m\u001b[0;34m+\u001b[0m\u001b[0margs\u001b[0m\u001b[0;34m)\u001b[0m\u001b[0;34m)\u001b[0m \u001b[0;34m-\u001b[0m \u001b[0mf0\u001b[0m\u001b[0;34m)\u001b[0m\u001b[0;34m/\u001b[0m\u001b[0mepsilon\u001b[0m\u001b[0;34m\u001b[0m\u001b[0;34m\u001b[0m\u001b[0m\n\u001b[0m\u001b[1;32m     64\u001b[0m         \u001b[0mdx\u001b[0m\u001b[0;34m[\u001b[0m\u001b[0mi\u001b[0m\u001b[0;34m]\u001b[0m \u001b[0;34m=\u001b[0m \u001b[0;36m0.0\u001b[0m\u001b[0;34m\u001b[0m\u001b[0;34m\u001b[0m\u001b[0m\n\u001b[1;32m     65\u001b[0m \u001b[0;34m\u001b[0m\u001b[0m\n",
            "\u001b[0;32m/usr/local/lib/python3.7/dist-packages/scipy/optimize/optimize.py\u001b[0m in \u001b[0;36mfunction_wrapper\u001b[0;34m(*wrapper_args)\u001b[0m\n\u001b[1;32m    325\u001b[0m     \u001b[0;32mdef\u001b[0m \u001b[0mfunction_wrapper\u001b[0m\u001b[0;34m(\u001b[0m\u001b[0;34m*\u001b[0m\u001b[0mwrapper_args\u001b[0m\u001b[0;34m)\u001b[0m\u001b[0;34m:\u001b[0m\u001b[0;34m\u001b[0m\u001b[0;34m\u001b[0m\u001b[0m\n\u001b[1;32m    326\u001b[0m         \u001b[0mncalls\u001b[0m\u001b[0;34m[\u001b[0m\u001b[0;36m0\u001b[0m\u001b[0;34m]\u001b[0m \u001b[0;34m+=\u001b[0m \u001b[0;36m1\u001b[0m\u001b[0;34m\u001b[0m\u001b[0;34m\u001b[0m\u001b[0m\n\u001b[0;32m--> 327\u001b[0;31m         \u001b[0;32mreturn\u001b[0m \u001b[0mfunction\u001b[0m\u001b[0;34m(\u001b[0m\u001b[0;34m*\u001b[0m\u001b[0;34m(\u001b[0m\u001b[0mwrapper_args\u001b[0m \u001b[0;34m+\u001b[0m \u001b[0margs\u001b[0m\u001b[0;34m)\u001b[0m\u001b[0;34m)\u001b[0m\u001b[0;34m\u001b[0m\u001b[0;34m\u001b[0m\u001b[0m\n\u001b[0m\u001b[1;32m    328\u001b[0m \u001b[0;34m\u001b[0m\u001b[0m\n\u001b[1;32m    329\u001b[0m     \u001b[0;32mreturn\u001b[0m \u001b[0mncalls\u001b[0m\u001b[0;34m,\u001b[0m \u001b[0mfunction_wrapper\u001b[0m\u001b[0;34m\u001b[0m\u001b[0;34m\u001b[0m\u001b[0m\n",
            "\u001b[0;32m/usr/local/lib/python3.7/dist-packages/qiskit/aqua/algorithms/minimum_eigen_solvers/vqe.py\u001b[0m in \u001b[0;36m_energy_evaluation\u001b[0;34m(self, parameters)\u001b[0m\n\u001b[1;32m    523\u001b[0m \u001b[0;34m\u001b[0m\u001b[0m\n\u001b[1;32m    524\u001b[0m         \u001b[0mstart_time\u001b[0m \u001b[0;34m=\u001b[0m \u001b[0mtime\u001b[0m\u001b[0;34m(\u001b[0m\u001b[0;34m)\u001b[0m\u001b[0;34m\u001b[0m\u001b[0;34m\u001b[0m\u001b[0m\n\u001b[0;32m--> 525\u001b[0;31m         \u001b[0msampled_expect_op\u001b[0m \u001b[0;34m=\u001b[0m \u001b[0mself\u001b[0m\u001b[0;34m.\u001b[0m\u001b[0m_circuit_sampler\u001b[0m\u001b[0;34m.\u001b[0m\u001b[0mconvert\u001b[0m\u001b[0;34m(\u001b[0m\u001b[0mself\u001b[0m\u001b[0;34m.\u001b[0m\u001b[0m_expect_op\u001b[0m\u001b[0;34m,\u001b[0m \u001b[0mparams\u001b[0m\u001b[0;34m=\u001b[0m\u001b[0mparam_bindings\u001b[0m\u001b[0;34m)\u001b[0m\u001b[0;34m\u001b[0m\u001b[0;34m\u001b[0m\u001b[0m\n\u001b[0m\u001b[1;32m    526\u001b[0m         \u001b[0mmeans\u001b[0m \u001b[0;34m=\u001b[0m \u001b[0mnp\u001b[0m\u001b[0;34m.\u001b[0m\u001b[0mreal\u001b[0m\u001b[0;34m(\u001b[0m\u001b[0msampled_expect_op\u001b[0m\u001b[0;34m.\u001b[0m\u001b[0meval\u001b[0m\u001b[0;34m(\u001b[0m\u001b[0;34m)\u001b[0m\u001b[0;34m)\u001b[0m\u001b[0;34m\u001b[0m\u001b[0;34m\u001b[0m\u001b[0m\n\u001b[1;32m    527\u001b[0m \u001b[0;34m\u001b[0m\u001b[0m\n",
            "\u001b[0;32m/usr/local/lib/python3.7/dist-packages/qiskit/aqua/operators/converters/circuit_sampler.py\u001b[0m in \u001b[0;36mconvert\u001b[0;34m(self, operator, params)\u001b[0m\n\u001b[1;32m    204\u001b[0m         \u001b[0mp_b\u001b[0m \u001b[0;34m=\u001b[0m \u001b[0mcast\u001b[0m\u001b[0;34m(\u001b[0m\u001b[0mList\u001b[0m\u001b[0;34m[\u001b[0m\u001b[0mDict\u001b[0m\u001b[0;34m[\u001b[0m\u001b[0mParameter\u001b[0m\u001b[0;34m,\u001b[0m \u001b[0mList\u001b[0m\u001b[0;34m[\u001b[0m\u001b[0mfloat\u001b[0m\u001b[0;34m]\u001b[0m\u001b[0;34m]\u001b[0m\u001b[0;34m]\u001b[0m\u001b[0;34m,\u001b[0m \u001b[0mparam_bindings\u001b[0m\u001b[0;34m)\u001b[0m\u001b[0;34m\u001b[0m\u001b[0;34m\u001b[0m\u001b[0m\n\u001b[1;32m    205\u001b[0m         sampled_statefn_dicts = self.sample_circuits(circuit_sfns=circs,\n\u001b[0;32m--> 206\u001b[0;31m                                                      param_bindings=p_b)\n\u001b[0m\u001b[1;32m    207\u001b[0m \u001b[0;34m\u001b[0m\u001b[0m\n\u001b[1;32m    208\u001b[0m         \u001b[0;32mdef\u001b[0m \u001b[0mreplace_circuits_with_dicts\u001b[0m\u001b[0;34m(\u001b[0m\u001b[0moperator\u001b[0m\u001b[0;34m,\u001b[0m \u001b[0mparam_index\u001b[0m\u001b[0;34m=\u001b[0m\u001b[0;36m0\u001b[0m\u001b[0;34m)\u001b[0m\u001b[0;34m:\u001b[0m\u001b[0;34m\u001b[0m\u001b[0;34m\u001b[0m\u001b[0m\n",
            "\u001b[0;32m/usr/local/lib/python3.7/dist-packages/qiskit/aqua/operators/converters/circuit_sampler.py\u001b[0m in \u001b[0;36msample_circuits\u001b[0;34m(self, circuit_sfns, param_bindings)\u001b[0m\n\u001b[1;32m    291\u001b[0m \u001b[0;34m\u001b[0m\u001b[0m\n\u001b[1;32m    292\u001b[0m         results = self.quantum_instance.execute(ready_circs,\n\u001b[0;32m--> 293\u001b[0;31m                                                 had_transpiled=self._transpile_before_bind)\n\u001b[0m\u001b[1;32m    294\u001b[0m \u001b[0;34m\u001b[0m\u001b[0m\n\u001b[1;32m    295\u001b[0m         \u001b[0;32mif\u001b[0m \u001b[0mparam_bindings\u001b[0m \u001b[0;32mis\u001b[0m \u001b[0;32mnot\u001b[0m \u001b[0;32mNone\u001b[0m \u001b[0;32mand\u001b[0m \u001b[0mself\u001b[0m\u001b[0;34m.\u001b[0m\u001b[0m_param_qobj\u001b[0m\u001b[0;34m:\u001b[0m\u001b[0;34m\u001b[0m\u001b[0;34m\u001b[0m\u001b[0m\n",
            "\u001b[0;32m/usr/local/lib/python3.7/dist-packages/qiskit/aqua/quantum_instance.py\u001b[0m in \u001b[0;36mexecute\u001b[0;34m(self, circuits, had_transpiled)\u001b[0m\n\u001b[1;32m    398\u001b[0m             result = run_qobj(qobj, self._backend, self._qjob_config,\n\u001b[1;32m    399\u001b[0m                               \u001b[0mself\u001b[0m\u001b[0;34m.\u001b[0m\u001b[0m_backend_options\u001b[0m\u001b[0;34m,\u001b[0m \u001b[0mself\u001b[0m\u001b[0;34m.\u001b[0m\u001b[0m_noise_config\u001b[0m\u001b[0;34m,\u001b[0m\u001b[0;34m\u001b[0m\u001b[0;34m\u001b[0m\u001b[0m\n\u001b[0;32m--> 400\u001b[0;31m                               self._skip_qobj_validation, self._job_callback)\n\u001b[0m\u001b[1;32m    401\u001b[0m \u001b[0;34m\u001b[0m\u001b[0m\n\u001b[1;32m    402\u001b[0m         \u001b[0;32mif\u001b[0m \u001b[0mself\u001b[0m\u001b[0;34m.\u001b[0m\u001b[0m_circuit_summary\u001b[0m\u001b[0;34m:\u001b[0m\u001b[0;34m\u001b[0m\u001b[0;34m\u001b[0m\u001b[0m\n",
            "\u001b[0;32m/usr/local/lib/python3.7/dist-packages/qiskit/aqua/utils/run_circuits.py\u001b[0m in \u001b[0;36mrun_qobj\u001b[0;34m(qobj, backend, qjob_config, backend_options, noise_config, skip_qobj_validation, job_callback)\u001b[0m\n\u001b[1;32m    316\u001b[0m         \u001b[0mresults\u001b[0m \u001b[0;34m=\u001b[0m \u001b[0;34m[\u001b[0m\u001b[0;34m]\u001b[0m\u001b[0;34m\u001b[0m\u001b[0;34m\u001b[0m\u001b[0m\n\u001b[1;32m    317\u001b[0m         \u001b[0;32mfor\u001b[0m \u001b[0mjob\u001b[0m \u001b[0;32min\u001b[0m \u001b[0mjobs\u001b[0m\u001b[0;34m:\u001b[0m\u001b[0;34m\u001b[0m\u001b[0;34m\u001b[0m\u001b[0m\n\u001b[0;32m--> 318\u001b[0;31m             \u001b[0mresults\u001b[0m\u001b[0;34m.\u001b[0m\u001b[0mappend\u001b[0m\u001b[0;34m(\u001b[0m\u001b[0mjob\u001b[0m\u001b[0;34m.\u001b[0m\u001b[0mresult\u001b[0m\u001b[0;34m(\u001b[0m\u001b[0;34m**\u001b[0m\u001b[0mqjob_config\u001b[0m\u001b[0;34m)\u001b[0m\u001b[0;34m)\u001b[0m\u001b[0;34m\u001b[0m\u001b[0;34m\u001b[0m\u001b[0m\n\u001b[0m\u001b[1;32m    319\u001b[0m \u001b[0;34m\u001b[0m\u001b[0m\n\u001b[1;32m    320\u001b[0m     \u001b[0mresult\u001b[0m \u001b[0;34m=\u001b[0m \u001b[0m_combine_result_objects\u001b[0m\u001b[0;34m(\u001b[0m\u001b[0mresults\u001b[0m\u001b[0;34m)\u001b[0m \u001b[0;32mif\u001b[0m \u001b[0mresults\u001b[0m \u001b[0;32melse\u001b[0m \u001b[0;32mNone\u001b[0m\u001b[0;34m\u001b[0m\u001b[0;34m\u001b[0m\u001b[0m\n",
            "\u001b[0;32m/usr/local/lib/python3.7/dist-packages/qiskit/providers/basicaer/basicaerjob.py\u001b[0m in \u001b[0;36m_wrapper\u001b[0;34m(self, *args, **kwargs)\u001b[0m\n\u001b[1;32m     36\u001b[0m         \u001b[0;32mif\u001b[0m \u001b[0mself\u001b[0m\u001b[0;34m.\u001b[0m\u001b[0m_future\u001b[0m \u001b[0;32mis\u001b[0m \u001b[0;32mNone\u001b[0m\u001b[0;34m:\u001b[0m\u001b[0;34m\u001b[0m\u001b[0;34m\u001b[0m\u001b[0m\n\u001b[1;32m     37\u001b[0m             \u001b[0;32mraise\u001b[0m \u001b[0mJobError\u001b[0m\u001b[0;34m(\u001b[0m\u001b[0;34m\"Job not submitted yet!. You have to .submit() first!\"\u001b[0m\u001b[0;34m)\u001b[0m\u001b[0;34m\u001b[0m\u001b[0;34m\u001b[0m\u001b[0m\n\u001b[0;32m---> 38\u001b[0;31m         \u001b[0;32mreturn\u001b[0m \u001b[0mfunc\u001b[0m\u001b[0;34m(\u001b[0m\u001b[0mself\u001b[0m\u001b[0;34m,\u001b[0m \u001b[0;34m*\u001b[0m\u001b[0margs\u001b[0m\u001b[0;34m,\u001b[0m \u001b[0;34m**\u001b[0m\u001b[0mkwargs\u001b[0m\u001b[0;34m)\u001b[0m\u001b[0;34m\u001b[0m\u001b[0;34m\u001b[0m\u001b[0m\n\u001b[0m\u001b[1;32m     39\u001b[0m     \u001b[0;32mreturn\u001b[0m \u001b[0m_wrapper\u001b[0m\u001b[0;34m\u001b[0m\u001b[0;34m\u001b[0m\u001b[0m\n\u001b[1;32m     40\u001b[0m \u001b[0;34m\u001b[0m\u001b[0m\n",
            "\u001b[0;32m/usr/local/lib/python3.7/dist-packages/qiskit/providers/basicaer/basicaerjob.py\u001b[0m in \u001b[0;36mresult\u001b[0;34m(self, timeout)\u001b[0m\n\u001b[1;32m     91\u001b[0m             \u001b[0mconcurrent\u001b[0m\u001b[0;34m.\u001b[0m\u001b[0mfutures\u001b[0m\u001b[0;34m.\u001b[0m\u001b[0mCancelledError\u001b[0m\u001b[0;34m:\u001b[0m \u001b[0;32mif\u001b[0m \u001b[0mjob\u001b[0m \u001b[0mcancelled\u001b[0m \u001b[0mbefore\u001b[0m \u001b[0mcompleted\u001b[0m\u001b[0;34m.\u001b[0m\u001b[0;34m\u001b[0m\u001b[0;34m\u001b[0m\u001b[0m\n\u001b[1;32m     92\u001b[0m         \"\"\"\n\u001b[0;32m---> 93\u001b[0;31m         \u001b[0;32mreturn\u001b[0m \u001b[0mself\u001b[0m\u001b[0;34m.\u001b[0m\u001b[0m_future\u001b[0m\u001b[0;34m.\u001b[0m\u001b[0mresult\u001b[0m\u001b[0;34m(\u001b[0m\u001b[0mtimeout\u001b[0m\u001b[0;34m=\u001b[0m\u001b[0mtimeout\u001b[0m\u001b[0;34m)\u001b[0m\u001b[0;34m\u001b[0m\u001b[0;34m\u001b[0m\u001b[0m\n\u001b[0m\u001b[1;32m     94\u001b[0m \u001b[0;34m\u001b[0m\u001b[0m\n\u001b[1;32m     95\u001b[0m     \u001b[0;34m@\u001b[0m\u001b[0mrequires_submit\u001b[0m\u001b[0;34m\u001b[0m\u001b[0;34m\u001b[0m\u001b[0m\n",
            "\u001b[0;32m/usr/lib/python3.7/concurrent/futures/_base.py\u001b[0m in \u001b[0;36mresult\u001b[0;34m(self, timeout)\u001b[0m\n\u001b[1;32m    428\u001b[0m                 \u001b[0;32mreturn\u001b[0m \u001b[0mself\u001b[0m\u001b[0;34m.\u001b[0m\u001b[0m__get_result\u001b[0m\u001b[0;34m(\u001b[0m\u001b[0;34m)\u001b[0m\u001b[0;34m\u001b[0m\u001b[0;34m\u001b[0m\u001b[0m\n\u001b[1;32m    429\u001b[0m \u001b[0;34m\u001b[0m\u001b[0m\n\u001b[0;32m--> 430\u001b[0;31m             \u001b[0mself\u001b[0m\u001b[0;34m.\u001b[0m\u001b[0m_condition\u001b[0m\u001b[0;34m.\u001b[0m\u001b[0mwait\u001b[0m\u001b[0;34m(\u001b[0m\u001b[0mtimeout\u001b[0m\u001b[0;34m)\u001b[0m\u001b[0;34m\u001b[0m\u001b[0;34m\u001b[0m\u001b[0m\n\u001b[0m\u001b[1;32m    431\u001b[0m \u001b[0;34m\u001b[0m\u001b[0m\n\u001b[1;32m    432\u001b[0m             \u001b[0;32mif\u001b[0m \u001b[0mself\u001b[0m\u001b[0;34m.\u001b[0m\u001b[0m_state\u001b[0m \u001b[0;32min\u001b[0m \u001b[0;34m[\u001b[0m\u001b[0mCANCELLED\u001b[0m\u001b[0;34m,\u001b[0m \u001b[0mCANCELLED_AND_NOTIFIED\u001b[0m\u001b[0;34m]\u001b[0m\u001b[0;34m:\u001b[0m\u001b[0;34m\u001b[0m\u001b[0;34m\u001b[0m\u001b[0m\n",
            "\u001b[0;32m/usr/lib/python3.7/threading.py\u001b[0m in \u001b[0;36mwait\u001b[0;34m(self, timeout)\u001b[0m\n\u001b[1;32m    294\u001b[0m         \u001b[0;32mtry\u001b[0m\u001b[0;34m:\u001b[0m    \u001b[0;31m# restore state no matter what (e.g., KeyboardInterrupt)\u001b[0m\u001b[0;34m\u001b[0m\u001b[0;34m\u001b[0m\u001b[0m\n\u001b[1;32m    295\u001b[0m             \u001b[0;32mif\u001b[0m \u001b[0mtimeout\u001b[0m \u001b[0;32mis\u001b[0m \u001b[0;32mNone\u001b[0m\u001b[0;34m:\u001b[0m\u001b[0;34m\u001b[0m\u001b[0;34m\u001b[0m\u001b[0m\n\u001b[0;32m--> 296\u001b[0;31m                 \u001b[0mwaiter\u001b[0m\u001b[0;34m.\u001b[0m\u001b[0macquire\u001b[0m\u001b[0;34m(\u001b[0m\u001b[0;34m)\u001b[0m\u001b[0;34m\u001b[0m\u001b[0;34m\u001b[0m\u001b[0m\n\u001b[0m\u001b[1;32m    297\u001b[0m                 \u001b[0mgotit\u001b[0m \u001b[0;34m=\u001b[0m \u001b[0;32mTrue\u001b[0m\u001b[0;34m\u001b[0m\u001b[0;34m\u001b[0m\u001b[0m\n\u001b[1;32m    298\u001b[0m             \u001b[0;32melse\u001b[0m\u001b[0;34m:\u001b[0m\u001b[0;34m\u001b[0m\u001b[0;34m\u001b[0m\u001b[0m\n",
            "\u001b[0;31mKeyboardInterrupt\u001b[0m: "
          ]
        }
      ]
    },
    {
      "cell_type": "code",
      "metadata": {
        "id": "3RmEWvJ1WFv9"
      },
      "source": [
        "x_quantum = np.zeros(n**2)\n",
        "kk = 0\n",
        "for ii in range(n ** 2):\n",
        "    if ii // n != ii % n:\n",
        "        x_quantum[ii] = quantum_solution[kk]\n",
        "        kk +=  1\n",
        "\n",
        "\n",
        "# visualize the solution \n",
        "visualize_solution(xc, yc, x_quantum, quantum_cost, n, K, 'Quantum')\n",
        "                   \n",
        "# and visualize the classical for comparison\n",
        "if x is not None:\n",
        "    visualize_solution(xc, yc, x, classical_cost, n, K, 'Classical')"
      ],
      "execution_count": null,
      "outputs": []
    },
    {
      "cell_type": "markdown",
      "metadata": {
        "id": "9GKJ_oDhWWJA"
      },
      "source": [
        "#Optimization using DWAVE through DWave-qiskit-plugin\n",
        "##For n = 5, K = 3"
      ]
    },
    {
      "cell_type": "code",
      "metadata": {
        "colab": {
          "base_uri": "https://localhost:8080/"
        },
        "id": "ldhAOPpeaCqn",
        "outputId": "7f8c8e2c-124b-4071-b579-ecb4a06d6479"
      },
      "source": [
        "n = 5\n",
        "K = 3\n",
        "print(n)\n",
        "print(K)"
      ],
      "execution_count": null,
      "outputs": [
        {
          "output_type": "stream",
          "text": [
            "5\n",
            "3\n"
          ],
          "name": "stdout"
        }
      ]
    },
    {
      "cell_type": "code",
      "metadata": {
        "id": "wXGOMjafanE1"
      },
      "source": [
        "initializer = Initializer(n)\n",
        "xc,yc,instance = initializer.generate_instance()"
      ],
      "execution_count": null,
      "outputs": []
    },
    {
      "cell_type": "code",
      "metadata": {
        "id": "iwL1e6rcWSCB"
      },
      "source": [
        "quantum_optimizer1 = DQuantumOptimizer(instance, n, K)"
      ],
      "execution_count": null,
      "outputs": []
    },
    {
      "cell_type": "code",
      "metadata": {
        "colab": {
          "base_uri": "https://localhost:8080/"
        },
        "id": "dB8tgUx-aRm6",
        "outputId": "839095a0-e47d-4d3e-9ff3-e599d936a165"
      },
      "source": [
        "# Check if the binary representation is correct\n",
        "try:\n",
        "    if z is not None:\n",
        "        Q, g, c, binary_cost = quantum_optimizer1.binary_representation(x_sol = z)\n",
        "        print(\"Binary cost:\", binary_cost, \"classical cost:\", classical_cost)\n",
        "        if np.abs(binary_cost - classical_cost) < 0.01:\n",
        "            print('Binary formulation is correct')\n",
        "        else: print('Error in the binary formulation')\n",
        "    else:\n",
        "        print('Could not verify the correctness, due to CPLEX solution being unavailable.')\n",
        "        Q, g, c, binary_cost = quantum_optimizer1.binary_representation()\n",
        "        print(\"Binary cost:\", binary_cost)\n",
        "except NameError as e:\n",
        "    print(\"Warning: Please run the cells above first.\")\n",
        "    print(e)"
      ],
      "execution_count": null,
      "outputs": [
        {
          "output_type": "stream",
          "text": [
            "Could not verify the correctness, due to CPLEX solution being unavailable.\n",
            "Binary cost: 0\n"
          ],
          "name": "stdout"
        }
      ]
    },
    {
      "cell_type": "code",
      "metadata": {
        "id": "on0Dmh14W1PN"
      },
      "source": [
        "qp1 = quantum_optimizer1.construct_problem(Q, g, c)"
      ],
      "execution_count": null,
      "outputs": []
    },
    {
      "cell_type": "code",
      "metadata": {
        "colab": {
          "base_uri": "https://localhost:8080/"
        },
        "id": "6ND2BaLXW7Xl",
        "outputId": "7f30c209-3703-44bd-fa8e-6ff8fd18c3ed"
      },
      "source": [
        "quantum_solution1, quantum_cost1 = quantum_optimizer1.solve_problem(qp1)\n",
        "\n",
        "print(quantum_solution1, quantum_cost1)"
      ],
      "execution_count": null,
      "outputs": [
        {
          "output_type": "stream",
          "text": [
            "[0. 1. 1. 1. 1. 0. 0. 0. 1. 0. 0. 0. 1. 0. 0. 0. 0. 1. 0. 0.] 127.41191469453042\n"
          ],
          "name": "stdout"
        }
      ]
    },
    {
      "cell_type": "code",
      "metadata": {
        "colab": {
          "base_uri": "https://localhost:8080/",
          "height": 281
        },
        "id": "uLtdEQUAXHBN",
        "outputId": "c19cadae-4469-4566-c7b1-55a701b819b0"
      },
      "source": [
        "# Put the solution in a way that is compatible with the classical variables\n",
        "x_quantum = np.zeros(n**2)\n",
        "kk = 0\n",
        "for ii in range(n ** 2):\n",
        "    if ii // n != ii % n:\n",
        "        x_quantum[ii] = quantum_solution1[kk]\n",
        "        kk +=  1\n",
        "\n",
        "\n",
        "# visualize the solution \n",
        "visualize_solution(xc, yc, x_quantum, quantum_cost1, n, K, 'Quantum')\n",
        "                   \n",
        "# and visualize the classical for comparison\n",
        "if x is not None:\n",
        "    visualize_solution(xc, yc, x, classical_cost, n, K, 'Classical')"
      ],
      "execution_count": null,
      "outputs": [
        {
          "output_type": "display_data",
          "data": {
            "image/png": "[encoded data removed]",
            "text/plain": [
              "<Figure size 432x288 with 1 Axes>"
            ]
          },
          "metadata": {
            "tags": [],
            "needs_background": "light"
          }
        }
      ]
    },
    {
      "cell_type": "markdown",
      "metadata": {
        "id": "Hy4AuEmlb6FO"
      },
      "source": [
        "#Optimization using DWAVE through DWave-qiskit-plugin\n",
        "##For n = 20, K = 5"
      ]
    },
    {
      "cell_type": "code",
      "metadata": {
        "colab": {
          "base_uri": "https://localhost:8080/"
        },
        "id": "hybBQpFEZmXi",
        "outputId": "0256eb16-399a-40e1-ca4d-976d190e3c24"
      },
      "source": [
        "n = 20\n",
        "K = 5\n",
        "print(n)\n",
        "print(K)"
      ],
      "execution_count": null,
      "outputs": [
        {
          "output_type": "stream",
          "text": [
            "20\n",
            "5\n"
          ],
          "name": "stdout"
        }
      ]
    },
    {
      "cell_type": "code",
      "metadata": {
        "id": "5OJM_5BfceLR"
      },
      "source": [
        "initializer = Initializer(n)\n",
        "xc,yc,instance = initializer.generate_instance()"
      ],
      "execution_count": null,
      "outputs": []
    },
    {
      "cell_type": "code",
      "metadata": {
        "id": "LiMW625PchLV"
      },
      "source": [
        "quantum_optimizer1 = DQuantumOptimizer(instance, n, K)"
      ],
      "execution_count": null,
      "outputs": []
    },
    {
      "cell_type": "code",
      "metadata": {
        "colab": {
          "base_uri": "https://localhost:8080/"
        },
        "id": "yGGGyX2wdzRB",
        "outputId": "a2bf7a74-fdcf-4786-a45a-2d82fb323e55"
      },
      "source": [
        "# Check if the binary representation is correct\n",
        "try:\n",
        "    if z is not None:\n",
        "        Q, g, c, binary_cost = quantum_optimizer1.binary_representation(x_sol = z)\n",
        "        print(\"Binary cost:\", binary_cost, \"classical cost:\", classical_cost)\n",
        "        if np.abs(binary_cost - classical_cost) < 0.01:\n",
        "            print('Binary formulation is correct')\n",
        "        else: print('Error in the binary formulation')\n",
        "    else:\n",
        "        print('Could not verify the correctness, due to CPLEX solution being unavailable.')\n",
        "        Q, g, c, binary_cost = quantum_optimizer1.binary_representation()\n",
        "        print(\"Binary cost:\", binary_cost)\n",
        "except NameError as e:\n",
        "    print(\"Warning: Please run the cells above first.\")\n",
        "    print(e)"
      ],
      "execution_count": null,
      "outputs": [
        {
          "output_type": "stream",
          "text": [
            "Could not verify the correctness, due to CPLEX solution being unavailable.\n",
            "Binary cost: 0\n"
          ],
          "name": "stdout"
        }
      ]
    },
    {
      "cell_type": "code",
      "metadata": {
        "id": "EMoU89ogckwN"
      },
      "source": [
        "qp1 = quantum_optimizer1.construct_problem(Q, g, c)"
      ],
      "execution_count": null,
      "outputs": []
    },
    {
      "cell_type": "code",
      "metadata": {
        "colab": {
          "base_uri": "https://localhost:8080/",
          "height": 376
        },
        "id": "khSzha24c6y9",
        "outputId": "c1c76d07-772b-41e6-9638-e81ffc46c680"
      },
      "source": [
        "# Runtime 25m 48s with following error\n",
        "quantum_solution1, quantum_cost1 = quantum_optimizer1.solve_problem(qp1)\n",
        "\n",
        "print(quantum_solution1, quantum_cost1)"
      ],
      "execution_count": null,
      "outputs": [
        {
          "output_type": "error",
          "ename": "ValueError",
          "evalue": "ignored",
          "traceback": [
            "\u001b[0;31m---------------------------------------------------------------------------\u001b[0m",
            "\u001b[0;31mValueError\u001b[0m                                Traceback (most recent call last)",
            "\u001b[0;32m<ipython-input-74-65d43ef7b5e4>\u001b[0m in \u001b[0;36m<module>\u001b[0;34m()\u001b[0m\n\u001b[0;32m----> 1\u001b[0;31m \u001b[0mquantum_solution1\u001b[0m\u001b[0;34m,\u001b[0m \u001b[0mquantum_cost1\u001b[0m \u001b[0;34m=\u001b[0m \u001b[0mquantum_optimizer1\u001b[0m\u001b[0;34m.\u001b[0m\u001b[0msolve_problem\u001b[0m\u001b[0;34m(\u001b[0m\u001b[0mqp1\u001b[0m\u001b[0;34m)\u001b[0m\u001b[0;34m\u001b[0m\u001b[0;34m\u001b[0m\u001b[0m\n\u001b[0m\u001b[1;32m      2\u001b[0m \u001b[0;34m\u001b[0m\u001b[0m\n\u001b[1;32m      3\u001b[0m \u001b[0mprint\u001b[0m\u001b[0;34m(\u001b[0m\u001b[0mquantum_solution1\u001b[0m\u001b[0;34m,\u001b[0m \u001b[0mquantum_cost1\u001b[0m\u001b[0;34m)\u001b[0m\u001b[0;34m\u001b[0m\u001b[0;34m\u001b[0m\u001b[0m\n",
            "\u001b[0;32m<ipython-input-17-7b17edd1572b>\u001b[0m in \u001b[0;36msolve_problem\u001b[0;34m(self, qp)\u001b[0m\n\u001b[1;32m     85\u001b[0m         \u001b[0mdwave_mes\u001b[0m \u001b[0;34m=\u001b[0m \u001b[0mDWaveMinimumEigensolver\u001b[0m\u001b[0;34m(\u001b[0m\u001b[0;34m)\u001b[0m\u001b[0;34m\u001b[0m\u001b[0;34m\u001b[0m\u001b[0m\n\u001b[1;32m     86\u001b[0m         \u001b[0moptimizer\u001b[0m \u001b[0;34m=\u001b[0m \u001b[0mMinimumEigenOptimizer\u001b[0m\u001b[0;34m(\u001b[0m\u001b[0mdwave_mes\u001b[0m\u001b[0;34m)\u001b[0m\u001b[0;34m\u001b[0m\u001b[0;34m\u001b[0m\u001b[0m\n\u001b[0;32m---> 87\u001b[0;31m         \u001b[0mresult\u001b[0m \u001b[0;34m=\u001b[0m \u001b[0moptimizer\u001b[0m\u001b[0;34m.\u001b[0m\u001b[0msolve\u001b[0m\u001b[0;34m(\u001b[0m\u001b[0mqp\u001b[0m\u001b[0;34m)\u001b[0m\u001b[0;34m\u001b[0m\u001b[0;34m\u001b[0m\u001b[0m\n\u001b[0m\u001b[1;32m     88\u001b[0m         \u001b[0;31m# compute cost of the obtained result\u001b[0m\u001b[0;34m\u001b[0m\u001b[0;34m\u001b[0m\u001b[0;34m\u001b[0m\u001b[0m\n\u001b[1;32m     89\u001b[0m         \u001b[0m_\u001b[0m\u001b[0;34m,\u001b[0m\u001b[0m_\u001b[0m\u001b[0;34m,\u001b[0m\u001b[0m_\u001b[0m\u001b[0;34m,\u001b[0m\u001b[0mlevel\u001b[0m \u001b[0;34m=\u001b[0m \u001b[0mself\u001b[0m\u001b[0;34m.\u001b[0m\u001b[0mbinary_representation\u001b[0m\u001b[0;34m(\u001b[0m\u001b[0mx_sol\u001b[0m\u001b[0;34m=\u001b[0m\u001b[0mresult\u001b[0m\u001b[0;34m.\u001b[0m\u001b[0mx\u001b[0m\u001b[0;34m)\u001b[0m\u001b[0;34m\u001b[0m\u001b[0;34m\u001b[0m\u001b[0m\n",
            "\u001b[0;32m/usr/local/lib/python3.7/dist-packages/qiskit/optimization/algorithms/minimum_eigen_optimizer.py\u001b[0m in \u001b[0;36msolve\u001b[0;34m(self, problem)\u001b[0m\n\u001b[1;32m    184\u001b[0m \u001b[0;34m\u001b[0m\u001b[0m\n\u001b[1;32m    185\u001b[0m             \u001b[0;31m# approximate ground state of operator using min eigen solver\u001b[0m\u001b[0;34m\u001b[0m\u001b[0;34m\u001b[0m\u001b[0;34m\u001b[0m\u001b[0m\n\u001b[0;32m--> 186\u001b[0;31m             \u001b[0meigen_result\u001b[0m \u001b[0;34m=\u001b[0m \u001b[0mself\u001b[0m\u001b[0;34m.\u001b[0m\u001b[0m_min_eigen_solver\u001b[0m\u001b[0;34m.\u001b[0m\u001b[0mcompute_minimum_eigenvalue\u001b[0m\u001b[0;34m(\u001b[0m\u001b[0moperator\u001b[0m\u001b[0;34m)\u001b[0m\u001b[0;34m\u001b[0m\u001b[0;34m\u001b[0m\u001b[0m\n\u001b[0m\u001b[1;32m    187\u001b[0m \u001b[0;34m\u001b[0m\u001b[0m\n\u001b[1;32m    188\u001b[0m             \u001b[0;31m# analyze results\u001b[0m\u001b[0;34m\u001b[0m\u001b[0;34m\u001b[0m\u001b[0;34m\u001b[0m\u001b[0m\n",
            "\u001b[0;32m/usr/local/lib/python3.7/dist-packages/dwave/plugins/qiskit/minimum_eigen_solvers/dwave_minimum_eigen_solver.py\u001b[0m in \u001b[0;36mcompute_minimum_eigenvalue\u001b[0;34m(self, operator, aux_operators)\u001b[0m\n\u001b[1;32m    183\u001b[0m     ) -> MinimumEigensolverResult:\n\u001b[1;32m    184\u001b[0m         \u001b[0msuper\u001b[0m\u001b[0;34m(\u001b[0m\u001b[0;34m)\u001b[0m\u001b[0;34m.\u001b[0m\u001b[0mcompute_minimum_eigenvalue\u001b[0m\u001b[0;34m(\u001b[0m\u001b[0moperator\u001b[0m\u001b[0;34m,\u001b[0m \u001b[0maux_operators\u001b[0m\u001b[0;34m)\u001b[0m\u001b[0;34m\u001b[0m\u001b[0;34m\u001b[0m\u001b[0m\n\u001b[0;32m--> 185\u001b[0;31m         \u001b[0;32mreturn\u001b[0m \u001b[0mself\u001b[0m\u001b[0;34m.\u001b[0m\u001b[0m_run\u001b[0m\u001b[0;34m(\u001b[0m\u001b[0;34m)\u001b[0m\u001b[0;34m\u001b[0m\u001b[0;34m\u001b[0m\u001b[0m\n\u001b[0m\u001b[1;32m    186\u001b[0m \u001b[0;34m\u001b[0m\u001b[0m\n\u001b[1;32m    187\u001b[0m     \u001b[0;32mdef\u001b[0m \u001b[0m_sample\u001b[0m\u001b[0;34m(\u001b[0m\u001b[0mself\u001b[0m\u001b[0;34m)\u001b[0m \u001b[0;34m->\u001b[0m \u001b[0mdimod\u001b[0m\u001b[0;34m.\u001b[0m\u001b[0mSampleSet\u001b[0m\u001b[0;34m:\u001b[0m\u001b[0;34m\u001b[0m\u001b[0;34m\u001b[0m\u001b[0m\n",
            "\u001b[0;32m/usr/local/lib/python3.7/dist-packages/dwave/plugins/qiskit/minimum_eigen_solvers/dwave_minimum_eigen_solver.py\u001b[0m in \u001b[0;36m_run\u001b[0;34m(self)\u001b[0m\n\u001b[1;32m    217\u001b[0m         \"\"\"\n\u001b[1;32m    218\u001b[0m \u001b[0;34m\u001b[0m\u001b[0m\n\u001b[0;32m--> 219\u001b[0;31m         \u001b[0msampleset\u001b[0m \u001b[0;34m=\u001b[0m \u001b[0mself\u001b[0m\u001b[0;34m.\u001b[0m\u001b[0m_sample\u001b[0m\u001b[0;34m(\u001b[0m\u001b[0;34m)\u001b[0m\u001b[0;34m\u001b[0m\u001b[0;34m\u001b[0m\u001b[0m\n\u001b[0m\u001b[1;32m    220\u001b[0m \u001b[0;34m\u001b[0m\u001b[0m\n\u001b[1;32m    221\u001b[0m         \u001b[0mlogger\u001b[0m\u001b[0;34m.\u001b[0m\u001b[0mdebug\u001b[0m\u001b[0;34m(\u001b[0m\u001b[0;34m'sampleset: %r'\u001b[0m\u001b[0;34m,\u001b[0m \u001b[0msampleset\u001b[0m\u001b[0;34m)\u001b[0m\u001b[0;34m\u001b[0m\u001b[0;34m\u001b[0m\u001b[0m\n",
            "\u001b[0;32m/usr/local/lib/python3.7/dist-packages/dwave/plugins/qiskit/minimum_eigen_solvers/dwave_minimum_eigen_solver.py\u001b[0m in \u001b[0;36m_sample\u001b[0;34m(self)\u001b[0m\n\u001b[1;32m    189\u001b[0m         \u001b[0;32mif\u001b[0m \u001b[0;34m'num_reads'\u001b[0m \u001b[0;32min\u001b[0m \u001b[0mself\u001b[0m\u001b[0;34m.\u001b[0m\u001b[0msampler\u001b[0m\u001b[0;34m.\u001b[0m\u001b[0mparameters\u001b[0m\u001b[0;34m:\u001b[0m\u001b[0;34m\u001b[0m\u001b[0;34m\u001b[0m\u001b[0m\n\u001b[1;32m    190\u001b[0m             \u001b[0mparams\u001b[0m\u001b[0;34m[\u001b[0m\u001b[0;34m'num_reads'\u001b[0m\u001b[0;34m]\u001b[0m \u001b[0;34m=\u001b[0m \u001b[0mself\u001b[0m\u001b[0;34m.\u001b[0m\u001b[0m_num_reads\u001b[0m\u001b[0;34m\u001b[0m\u001b[0;34m\u001b[0m\u001b[0m\n\u001b[0;32m--> 191\u001b[0;31m         \u001b[0;32mreturn\u001b[0m \u001b[0mself\u001b[0m\u001b[0;34m.\u001b[0m\u001b[0msampler\u001b[0m\u001b[0;34m.\u001b[0m\u001b[0msample\u001b[0m\u001b[0;34m(\u001b[0m\u001b[0mself\u001b[0m\u001b[0;34m.\u001b[0m\u001b[0mbqm\u001b[0m\u001b[0;34m,\u001b[0m \u001b[0;34m**\u001b[0m\u001b[0mparams\u001b[0m\u001b[0;34m)\u001b[0m\u001b[0;34m\u001b[0m\u001b[0;34m\u001b[0m\u001b[0m\n\u001b[0m\u001b[1;32m    192\u001b[0m \u001b[0;34m\u001b[0m\u001b[0m\n\u001b[1;32m    193\u001b[0m     \u001b[0;34m@\u001b[0m\u001b[0mstaticmethod\u001b[0m\u001b[0;34m\u001b[0m\u001b[0;34m\u001b[0m\u001b[0m\n",
            "\u001b[0;32m/usr/local/lib/python3.7/dist-packages/dwave/system/composites/embedding.py\u001b[0m in \u001b[0;36msample\u001b[0;34m(self, bqm, **parameters)\u001b[0m\n\u001b[1;32m    631\u001b[0m             \u001b[0;32mpass\u001b[0m\u001b[0;34m\u001b[0m\u001b[0;34m\u001b[0m\u001b[0m\n\u001b[1;32m    632\u001b[0m \u001b[0;34m\u001b[0m\u001b[0m\n\u001b[0;32m--> 633\u001b[0;31m         \u001b[0;32mreturn\u001b[0m \u001b[0msuper\u001b[0m\u001b[0;34m(\u001b[0m\u001b[0mAutoEmbeddingComposite\u001b[0m\u001b[0;34m,\u001b[0m \u001b[0mself\u001b[0m\u001b[0;34m)\u001b[0m\u001b[0;34m.\u001b[0m\u001b[0msample\u001b[0m\u001b[0;34m(\u001b[0m\u001b[0mbqm\u001b[0m\u001b[0;34m,\u001b[0m \u001b[0;34m**\u001b[0m\u001b[0mparameters\u001b[0m\u001b[0;34m)\u001b[0m\u001b[0;34m\u001b[0m\u001b[0;34m\u001b[0m\u001b[0m\n\u001b[0m",
            "\u001b[0;32m/usr/local/lib/python3.7/dist-packages/dwave/system/composites/embedding.py\u001b[0m in \u001b[0;36msample\u001b[0;34m(self, bqm, chain_strength, chain_break_method, chain_break_fraction, embedding_parameters, return_embedding, warnings, **parameters)\u001b[0m\n\u001b[1;32m    239\u001b[0m \u001b[0;34m\u001b[0m\u001b[0m\n\u001b[1;32m    240\u001b[0m         \u001b[0;32mif\u001b[0m \u001b[0mbqm\u001b[0m \u001b[0;32mand\u001b[0m \u001b[0;32mnot\u001b[0m \u001b[0membedding\u001b[0m\u001b[0;34m:\u001b[0m\u001b[0;34m\u001b[0m\u001b[0;34m\u001b[0m\u001b[0m\n\u001b[0;32m--> 241\u001b[0;31m             \u001b[0;32mraise\u001b[0m \u001b[0mValueError\u001b[0m\u001b[0;34m(\u001b[0m\u001b[0;34m\"no embedding found\"\u001b[0m\u001b[0;34m)\u001b[0m\u001b[0;34m\u001b[0m\u001b[0;34m\u001b[0m\u001b[0m\n\u001b[0m\u001b[1;32m    242\u001b[0m \u001b[0;34m\u001b[0m\u001b[0m\n\u001b[1;32m    243\u001b[0m         \u001b[0;32mif\u001b[0m \u001b[0;32mnot\u001b[0m \u001b[0mhasattr\u001b[0m\u001b[0;34m(\u001b[0m\u001b[0membedding\u001b[0m\u001b[0;34m,\u001b[0m \u001b[0;34m'embed_bqm'\u001b[0m\u001b[0;34m)\u001b[0m\u001b[0;34m:\u001b[0m\u001b[0;34m\u001b[0m\u001b[0;34m\u001b[0m\u001b[0m\n",
            "\u001b[0;31mValueError\u001b[0m: no embedding found"
          ]
        }
      ]
    },
    {
      "cell_type": "code",
      "metadata": {
        "colab": {
          "base_uri": "https://localhost:8080/",
          "height": 281
        },
        "id": "ZfztFcaxdF4u",
        "outputId": "7f2fc34a-6398-4c03-aa4c-5cc8a828c0b3"
      },
      "source": [
        "# Put the solution in a way that is compatible with the classical variables\n",
        "x_quantum = np.zeros(n**2)\n",
        "kk = 0\n",
        "for ii in range(n ** 2):\n",
        "    if ii // n != ii % n:\n",
        "        x_quantum[ii] = quantum_solution1[kk]\n",
        "        kk +=  1\n",
        "\n",
        "\n",
        "# visualize the solution \n",
        "visualize_solution(xc, yc, x_quantum, quantum_cost1, n, K, 'Quantum')\n",
        "                   \n",
        "# and visualize the classical for comparison\n",
        "if x is not None:\n",
        "    visualize_solution(xc, yc, x, classical_cost, n, K, 'Classical')"
      ],
      "execution_count": null,
      "outputs": [
        {
          "output_type": "display_data",
          "data": {
            "image/png": "[encoded data removed]",
            "text/plain": [
              "<Figure size 432x288 with 1 Axes>"
            ]
          },
          "metadata": {
            "tags": [],
            "needs_background": "light"
          }
        }
      ]
    },
    {
      "cell_type": "code",
      "metadata": {
        "id": "Iq3cWDsZdYiE"
      },
      "source": [
        ""
      ],
      "execution_count": null,
      "outputs": []
    }
  ]
}